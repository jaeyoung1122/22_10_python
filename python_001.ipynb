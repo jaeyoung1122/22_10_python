{
  "nbformat": 4,
  "nbformat_minor": 0,
  "metadata": {
    "colab": {
      "provenance": [],
      "authorship_tag": "ABX9TyPC3Q4SEbO04RK/DtrLZqNf",
      "include_colab_link": true
    },
    "kernelspec": {
      "name": "python3",
      "display_name": "Python 3"
    },
    "language_info": {
      "name": "python"
    }
  },
  "cells": [
    {
      "cell_type": "markdown",
      "metadata": {
        "id": "view-in-github",
        "colab_type": "text"
      },
      "source": [
        "<a href=\"https://colab.research.google.com/github/jaeyoung1122/22_10_python/blob/main/python_001.ipynb\" target=\"_parent\"><img src=\"https://colab.research.google.com/assets/colab-badge.svg\" alt=\"Open In Colab\"/></a>"
      ]
    },
    {
      "cell_type": "markdown",
      "source": [
        "코랩과 깃헙의 첫번째 연결을 진행합니다"
      ],
      "metadata": {
        "id": "XJLPWjCOljHd"
      }
    },
    {
      "cell_type": "code",
      "source": [
        "print(\"hello github\") \n",
        "print(\"hello python\")\n",
        "print(\"안녕하세요?\")\n",
        "print(\"programming에 입문하신것을축하드립니다.\")"
      ],
      "metadata": {
        "colab": {
          "base_uri": "https://localhost:8080/"
        },
        "id": "Jt8E8qrYmtPQ",
        "outputId": "059b1c65-1b8c-4c53-c629-9449e7055121"
      },
      "execution_count": 1,
      "outputs": [
        {
          "output_type": "stream",
          "name": "stdout",
          "text": [
            "hello github\n",
            "hello python\n",
            "안녕하세요?\n",
            "programming에 입문하신것을축하드립니다.\n"
          ]
        }
      ]
    }
  ]
}
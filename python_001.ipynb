{
  "nbformat": 4,
  "nbformat_minor": 0,
  "metadata": {
    "colab": {
      "provenance": [],
      "authorship_tag": "ABX9TyPN23D/fv+ZxNvqotYU+OOr",
      "include_colab_link": true
    },
    "kernelspec": {
      "name": "python3",
      "display_name": "Python 3"
    },
    "language_info": {
      "name": "python"
    }
  },
  "cells": [
    {
      "cell_type": "markdown",
      "metadata": {
        "id": "view-in-github",
        "colab_type": "text"
      },
      "source": [
        "<a href=\"https://colab.research.google.com/github/jaeyoung1122/22_10_python/blob/main/python_001.ipynb\" target=\"_parent\"><img src=\"https://colab.research.google.com/assets/colab-badge.svg\" alt=\"Open In Colab\"/></a>"
      ]
    },
    {
      "cell_type": "markdown",
      "source": [
        "코랩과 깃헙의 첫번째 연결을 진행합니다"
      ],
      "metadata": {
        "id": "XJLPWjCOljHd"
      }
    },
    {
      "cell_type": "code",
      "source": [
        "print(\"hello github\") \n",
        "print(\"hello python\")\n",
        "print(\"안녕하세요?\")\n",
        "print(\"programming에 입문하신것을축하드립니다.\")"
      ],
      "metadata": {
        "colab": {
          "base_uri": "https://localhost:8080/"
        },
        "id": "Jt8E8qrYmtPQ",
        "outputId": "2cfce8a2-d0af-4cc7-a284-39d61fd1f3e7"
      },
      "execution_count": null,
      "outputs": [
        {
          "output_type": "stream",
          "name": "stdout",
          "text": [
            "hello github\n",
            "hello python\n",
            "안녕하세요?\n",
            "programming\n"
          ]
        }
      ]
    },
    {
      "cell_type": "code",
      "source": [
        "print(5+6)\n",
        "print(5-3)\n",
        "print(5/3)\n",
        "print(5//3)"
      ],
      "metadata": {
        "id": "b-1C9vidqFzA",
        "outputId": "3a12e604-22a5-4309-81e7-7788a013f2e2",
        "colab": {
          "base_uri": "https://localhost:8080/"
        }
      },
      "execution_count": 2,
      "outputs": [
        {
          "output_type": "stream",
          "name": "stdout",
          "text": [
            "11\n",
            "2\n",
            "1.6666666666666667\n",
            "1\n"
          ]
        }
      ]
    },
    {
      "cell_type": "code",
      "source": [
        "print(\"사랑해\"*10)"
      ],
      "metadata": {
        "id": "AI1VobJ7q67W",
        "outputId": "96cfb5c0-1de6-46af-b837-bbc356a5c9d5",
        "colab": {
          "base_uri": "https://localhost:8080/"
        }
      },
      "execution_count": 4,
      "outputs": [
        {
          "output_type": "stream",
          "name": "stdout",
          "text": [
            "사랑해사랑해사랑해사랑해사랑해사랑해사랑해사랑해사랑해사랑해\n"
          ]
        }
      ]
    },
    {
      "cell_type": "code",
      "source": [
        "ftemp=90.0\n",
        "ctemp=((ftemp-32.0)*5.0/9.0)\n",
        "print(ctemp)"
      ],
      "metadata": {
        "id": "BxjCENVIsEB2",
        "outputId": "aaca4e7d-890d-426e-ddd1-21c8f61b4a06",
        "colab": {
          "base_uri": "https://localhost:8080/"
        }
      },
      "execution_count": 6,
      "outputs": [
        {
          "output_type": "stream",
          "name": "stdout",
          "text": [
            "32.22222222222222\n"
          ]
        }
      ]
    },
    {
      "cell_type": "code",
      "source": [
        "print(3.141592*10.0*10.0)\n",
        "print((1/100)*1234)"
      ],
      "metadata": {
        "id": "OsKwh_j_rVZg",
        "outputId": "e50b884b-8ac8-494d-e58e-97b33e66c1a5",
        "colab": {
          "base_uri": "https://localhost:8080/"
        }
      },
      "execution_count": 5,
      "outputs": [
        {
          "output_type": "stream",
          "name": "stdout",
          "text": [
            "314.1592\n",
            "12.34\n"
          ]
        }
      ]
    },
    {
      "cell_type": "code",
      "source": [
        "x=200\n",
        "x=100\n",
        "print(x)\n",
        "\n",
        "x=100\n",
        "y=200\n",
        "print(x)\n",
        "\n"
      ],
      "metadata": {
        "id": "J0gFlJR4vLyD",
        "outputId": "ddd12bfa-99ad-4fc2-b503-c861d6683295",
        "colab": {
          "base_uri": "https://localhost:8080/"
        }
      },
      "execution_count": 12,
      "outputs": [
        {
          "output_type": "stream",
          "name": "stdout",
          "text": [
            "100\n",
            "100\n"
          ]
        }
      ]
    },
    {
      "cell_type": "code",
      "source": [
        "x=100\n",
        "y=200\n",
        "z=(x+y)\n",
        "print(z)\n",
        "print(x+y)"
      ],
      "metadata": {
        "id": "jO8MQ5afv3C4",
        "outputId": "aa703065-cba2-4709-ff00-38cca3d31149",
        "colab": {
          "base_uri": "https://localhost:8080/"
        }
      },
      "execution_count": 13,
      "outputs": [
        {
          "output_type": "stream",
          "name": "stdout",
          "text": [
            "300\n",
            "300\n"
          ]
        }
      ]
    },
    {
      "cell_type": "code",
      "source": [
        "x=100\n",
        "y=200\n",
        "sum=x+y\n",
        "print(x,\"과\",\"의 합은\",sum, \"입니다.\")"
      ],
      "metadata": {
        "id": "l4U5aQr9w_wn",
        "outputId": "55f2c75d-9d4d-4cec-87ab-4e298ebf1921",
        "colab": {
          "base_uri": "https://localhost:8080/"
        }
      },
      "execution_count": 1,
      "outputs": [
        {
          "output_type": "stream",
          "name": "stdout",
          "text": [
            "100 과 의 합은 300 입니다.\n"
          ]
        }
      ]
    }
  ]
}